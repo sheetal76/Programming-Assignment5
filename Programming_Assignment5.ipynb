{
  "nbformat": 4,
  "nbformat_minor": 0,
  "metadata": {
    "colab": {
      "provenance": []
    },
    "kernelspec": {
      "name": "python3",
      "display_name": "Python 3"
    },
    "language_info": {
      "name": "python"
    }
  },
  "cells": [
    {
      "cell_type": "code",
      "execution_count": null,
      "metadata": {
        "id": "uQVdTDJEFMGP"
      },
      "outputs": [],
      "source": [
        "#1. Write a Python Program to Find LCM?"
      ]
    },
    {
      "cell_type": "code",
      "source": [
        "def find_gcd(x, y):\n",
        "    while(y):\n",
        "        x, y = y, x % y\n",
        "    return x\n",
        "\n",
        "def find_lcm(x, y):\n",
        "    gcd = find_gcd(x, y)\n",
        "    lcm = (x * y) // gcd\n",
        "    return lcm\n",
        "\n",
        "# Taking input from the user\n",
        "num1 = int(input(\"Enter first number: \"))\n",
        "num2 = int(input(\"Enter second number: \"))\n",
        "\n",
        "result_lcm = find_lcm(num1, num2)\n",
        "\n",
        "print(f\"The LCM of {num1} and {num2} is: {result_lcm}\")\n"
      ],
      "metadata": {
        "id": "89ILwU6_IFkt",
        "colab": {
          "base_uri": "https://localhost:8080/"
        },
        "outputId": "eb51e1e3-539f-442f-a16a-a9566df46431"
      },
      "execution_count": 1,
      "outputs": [
        {
          "output_type": "stream",
          "name": "stdout",
          "text": [
            "Enter first number: 34\n",
            "Enter second number: 67\n",
            "The LCM of 34 and 67 is: 2278\n"
          ]
        }
      ]
    },
    {
      "cell_type": "code",
      "source": [
        "# 2. Write a Python Program to Find HCF?"
      ],
      "metadata": {
        "id": "Zb89M_ObF_Tc"
      },
      "execution_count": null,
      "outputs": []
    },
    {
      "cell_type": "code",
      "source": [
        "def find_hcf(x, y):\n",
        "    while(y):\n",
        "        x, y = y, x % y\n",
        "    return x\n",
        "\n",
        "# Taking input from the user\n",
        "num1 = int(input(\"Enter first number: \"))\n",
        "num2 = int(input(\"Enter second number: \"))\n",
        "\n",
        "result_hcf = find_hcf(num1, num2)\n",
        "\n",
        "print(f\"The HCF of {num1} and {num2} is: {result_hcf}\")\n"
      ],
      "metadata": {
        "colab": {
          "base_uri": "https://localhost:8080/"
        },
        "id": "j4IfKEe7ZkpA",
        "outputId": "de400f54-d338-48d5-d9a5-6604d4b4fbea"
      },
      "execution_count": 2,
      "outputs": [
        {
          "output_type": "stream",
          "name": "stdout",
          "text": [
            "Enter first number: 12\n",
            "Enter second number: 18\n",
            "The HCF of 12 and 18 is: 6\n"
          ]
        }
      ]
    },
    {
      "cell_type": "code",
      "source": [
        "# 3. Write a Python Program to Convert Decimal to Binary, Octal and Hexadecimal?"
      ],
      "metadata": {
        "id": "3bTyBuOkHIrX"
      },
      "execution_count": null,
      "outputs": []
    },
    {
      "cell_type": "code",
      "source": [
        "def decimal_to_binary(decimal_num):\n",
        "    return bin(decimal_num).replace(\"0b\", \"\")\n",
        "\n",
        "def decimal_to_octal(decimal_num):\n",
        "    return oct(decimal_num).replace(\"0o\", \"\")\n",
        "\n",
        "def decimal_to_hexadecimal(decimal_num):\n",
        "    return hex(decimal_num).replace(\"0x\", \"\")\n",
        "\n",
        "# Taking input from the user\n",
        "decimal_num = int(input(\"Enter a decimal number: \"))\n",
        "\n",
        "binary_result = decimal_to_binary(decimal_num)\n",
        "octal_result = decimal_to_octal(decimal_num)\n",
        "hexadecimal_result = decimal_to_hexadecimal(decimal_num)\n",
        "\n",
        "print(f\"The binary representation is: {binary_result}\")\n",
        "print(f\"The octal representation is: {octal_result}\")\n",
        "print(f\"The hexadecimal representation is: {hexadecimal_result}\")\n"
      ],
      "metadata": {
        "colab": {
          "base_uri": "https://localhost:8080/"
        },
        "id": "60NU6gHwaEE7",
        "outputId": "67fe850c-d4ca-4e03-ac76-eda31b358d96"
      },
      "execution_count": 4,
      "outputs": [
        {
          "output_type": "stream",
          "name": "stdout",
          "text": [
            "Enter a decimal number: 23\n",
            "The binary representation is: 10111\n",
            "The octal representation is: 27\n",
            "The hexadecimal representation is: 17\n"
          ]
        }
      ]
    },
    {
      "cell_type": "code",
      "source": [
        "# 4. Write a Python Program To Find ASCII value of a character?"
      ],
      "metadata": {
        "id": "jJSATWhpHMlY"
      },
      "execution_count": null,
      "outputs": []
    },
    {
      "cell_type": "code",
      "source": [
        "# Taking input from the user\n",
        "char = input(\"Enter a character: \")\n",
        "\n",
        "# Using ord() function to get ASCII value\n",
        "ascii_value = ord(char)\n",
        "\n",
        "print(f\"The ASCII value of '{char}' is: {ascii_value}\")\n"
      ],
      "metadata": {
        "colab": {
          "base_uri": "https://localhost:8080/"
        },
        "id": "sWf2ZzCjbX2C",
        "outputId": "5e1e4969-18c4-4c4f-a1ba-eeb01dd4026b"
      },
      "execution_count": 5,
      "outputs": [
        {
          "output_type": "stream",
          "name": "stdout",
          "text": [
            "Enter a character: r\n",
            "The ASCII value of 'r' is: 114\n"
          ]
        }
      ]
    },
    {
      "cell_type": "code",
      "source": [
        "# 5. Write a Python Program to Make a Simple Calculator with 4 basic mathematical operations?"
      ],
      "metadata": {
        "id": "72i2ufHeHQKr"
      },
      "execution_count": 6,
      "outputs": []
    },
    {
      "cell_type": "code",
      "source": [
        "def add(x, y):\n",
        "    return x + y\n",
        "\n",
        "def subtract(x, y):\n",
        "    return x - y\n",
        "\n",
        "def multiply(x, y):\n",
        "    return x * y\n",
        "\n",
        "def divide(x, y):\n",
        "    if y != 0:\n",
        "        return x / y\n",
        "    else:\n",
        "        return \"Cannot divide by zero\"\n",
        "\n",
        "# Taking input from the user\n",
        "num1 = float(input(\"Enter the first number: \"))\n",
        "operator = input(\"Enter the operation (+, -, *, /): \")\n",
        "num2 = float(input(\"Enter the second number: \"))\n",
        "\n",
        "# Performing the calculation based on the operator\n",
        "if operator == '+':\n",
        "    result = add(num1, num2)\n",
        "elif operator == '-':\n",
        "    result = subtract(num1, num2)\n",
        "elif operator == '*':\n",
        "    result = multiply(num1, num2)\n",
        "elif operator == '/':\n",
        "    result = divide(num1, num2)\n",
        "else:\n",
        "    result = \"Invalid operator\"\n",
        "\n",
        "print(f\"The result of {num1} {operator} {num2} is: {result}\")\n"
      ],
      "metadata": {
        "id": "24yY-_hGHXRv",
        "colab": {
          "base_uri": "https://localhost:8080/"
        },
        "outputId": "aa1df623-ab07-4c3b-f7a9-e47e786390d3"
      },
      "execution_count": 7,
      "outputs": [
        {
          "output_type": "stream",
          "name": "stdout",
          "text": [
            "Enter the first number: 12\n",
            "Enter the operation (+, -, *, /): +\n",
            "Enter the second number: 12\n",
            "The result of 12.0 + 12.0 is: 24.0\n"
          ]
        }
      ]
    },
    {
      "cell_type": "code",
      "source": [],
      "metadata": {
        "id": "dwM0FjLbbkzp"
      },
      "execution_count": null,
      "outputs": []
    }
  ]
}